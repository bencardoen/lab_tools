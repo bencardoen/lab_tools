{
 "cells": [
  {
   "cell_type": "markdown",
   "metadata": {},
   "source": [
    "### Reading exported data from slack"
   ]
  },
  {
   "cell_type": "code",
   "execution_count": 4,
   "metadata": {},
   "outputs": [],
   "source": [
    "\n",
    "import json\n",
    "import os\n",
    "from pprint import pprint\n",
    "path = '/home/bcardoen/Downloads/mial/MIAL Slack export Sep 28 2018 - Dec 13 2018' ## Unzip export.zip here\n",
    "\n",
    "def treedir(pathname):\n",
    "    (t, d, f)  = next(os.walk(pathname))\n",
    "    return {**{dir:treedir(os.path.join(pathname, dir)) for dir in d}, **{file:os.path.join(t, file) for file in f}}\n",
    "\n",
    "# with open('data.json') as f:\n",
    "#     data = json.load(f)\n",
    "\n",
    "# pprint(data)"
   ]
  },
  {
   "cell_type": "code",
   "execution_count": 10,
   "metadata": {},
   "outputs": [],
   "source": [
    "contents = treedir(path)"
   ]
  },
  {
   "cell_type": "code",
   "execution_count": 12,
   "metadata": {},
   "outputs": [
    {
     "name": "stdout",
     "output_type": "stream",
     "text": [
      "\t Have channels:\n",
      "\t random\n",
      "\t ai_news\n",
      "\t smlm\n",
      "\t general\n",
      "\t ai_events\n",
      "\t plant_image_analysis\n",
      "\t derm\n",
      "\t reading_groups\n",
      "\t mial_infrastructure\n",
      "\t cats\n",
      "\t mial_social\n",
      "\t recommended_papers\n",
      "\t software_tricks_tools\n",
      "\t compute_canada\n"
     ]
    }
   ],
   "source": [
    "print('\\t Have channels:')\n",
    "for c,v in contents.items():\n",
    "    if not isinstance(v,str):\n",
    "        print('\\t {}'.format(c))"
   ]
  },
  {
   "cell_type": "code",
   "execution_count": 17,
   "metadata": {},
   "outputs": [
    {
     "name": "stdout",
     "output_type": "stream",
     "text": [
      "\t Have 44 dates\n"
     ]
    }
   ],
   "source": [
    "dates_general = contents['general']\n",
    "print('\\t Have {} dates'.format(len(dates_general.keys())))"
   ]
  },
  {
   "cell_type": "code",
   "execution_count": 18,
   "metadata": {},
   "outputs": [],
   "source": [
    "f = dates_general['2018-11-23.json']"
   ]
  },
  {
   "cell_type": "code",
   "execution_count": 19,
   "metadata": {},
   "outputs": [],
   "source": [
    "with open(f) as file:\n",
    "    data = json.load(file)"
   ]
  },
  {
   "cell_type": "code",
   "execution_count": 20,
   "metadata": {},
   "outputs": [
    {
     "data": {
      "text/plain": [
       "[{'latest_reply': '1543100057.165000',\n",
       "  'replies': [{'ts': '1543100057.165000', 'user': 'UD3QNJE85'}],\n",
       "  'reply_count': 1,\n",
       "  'reply_users': ['UD3QNJE85'],\n",
       "  'reply_users_count': 1,\n",
       "  'text': '<https://twitter.com/tcia_news/status/1066075453260267522?s=12>',\n",
       "  'thread_ts': '1543031015.164700',\n",
       "  'ts': '1543031015.164700',\n",
       "  'type': 'message',\n",
       "  'user': 'UD562L1JS'},\n",
       " {'attachments': [{'fallback': 'Futurism: See the 3D images produced by the first full-body medical scanner',\n",
       "    'from_url': 'https://futurism.com/medical-scanner-explorer/',\n",
       "    'id': 1,\n",
       "    'image_bytes': 40696,\n",
       "    'image_height': 250,\n",
       "    'image_url': 'https://wp-assets.futurism.com/2018/11/worlds-first-total-body-scanner-1200x630.jpg',\n",
       "    'image_width': 476,\n",
       "    'original_url': 'https://futurism.com/medical-scanner-explorer/',\n",
       "    'service_icon': 'https://futurism.com/static/favicon.png',\n",
       "    'service_name': 'Futurism',\n",
       "    'text': \"Even the device's creators were impressed by the clarity of the images.\",\n",
       "    'title': 'See the 3D images produced by the first full-body medical scanner',\n",
       "    'title_link': 'https://futurism.com/medical-scanner-explorer/'}],\n",
       "  'client_msg_id': 'c287c0ce-55d8-465e-af21-5f995fb5effd',\n",
       "  'text': '<https://futurism.com/medical-scanner-explorer/>',\n",
       "  'ts': '1543042251.164800',\n",
       "  'type': 'message',\n",
       "  'user': 'UD31SR6RX'}]"
      ]
     },
     "execution_count": 20,
     "metadata": {},
     "output_type": "execute_result"
    }
   ],
   "source": [
    "data"
   ]
  },
  {
   "cell_type": "code",
   "execution_count": null,
   "metadata": {},
   "outputs": [],
   "source": []
  }
 ],
 "metadata": {
  "@webio": {
   "lastCommId": "dd40075112bb4349819eba62cbef04cf",
   "lastKernelId": "67955c74-ee1c-4e87-abb2-9cdc83f268d3"
  },
  "kernelspec": {
   "display_name": "Python 3",
   "language": "python",
   "name": "python3"
  },
  "language_info": {
   "codemirror_mode": {
    "name": "ipython",
    "version": 3
   },
   "file_extension": ".py",
   "mimetype": "text/x-python",
   "name": "python",
   "nbconvert_exporter": "python",
   "pygments_lexer": "ipython3",
   "version": "3.6.6"
  }
 },
 "nbformat": 4,
 "nbformat_minor": 2
}
