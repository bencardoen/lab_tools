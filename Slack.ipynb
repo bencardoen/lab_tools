{
 "cells": [
  {
   "cell_type": "markdown",
   "metadata": {},
   "source": [
    "### Searching exported data from slack\n",
    " -- Ben Cardoen, 20181216\n",
    "\n",
    "* Download the zipped archive from: https://drive.google.com/drive/folders/1LaH2MORhwWK6J92sS66pRw7pOX0EpgNZ\n",
    "* Unzip the archive in _some-folder_\n",
    "* Set the variable below to _some-folder_"
   ]
  },
  {
   "cell_type": "code",
   "execution_count": 64,
   "metadata": {},
   "outputs": [],
   "source": [
    "path = '/home/bcardoen/Downloads/mial/MIAL Slack export Sep 28 2018 - Dec 13 2018'"
   ]
  },
  {
   "cell_type": "code",
   "execution_count": 65,
   "metadata": {},
   "outputs": [],
   "source": [
    "\n",
    "import json\n",
    "import os\n",
    "import pytz\n",
    "from datetime import datetime, timedelta, timezone\n",
    "import re\n",
    "from pprint import pprint\n",
    "\n",
    "def treedir(pathname):\n",
    "    (t, d, f)  = next(os.walk(pathname))\n",
    "    return {**{dir:treedir(os.path.join(pathname, dir)) for dir in d}, **{file:os.path.join(t, file) for file in f}}\n",
    "\n",
    "def search_channel(channel, regex, path):\n",
    "    '''\n",
    "    :param path: a location where the archive is unzipped.\n",
    "    '''\n",
    "    contents = None\n",
    "    try:\n",
    "        contents = treedir(path)\n",
    "    except Error as e:\n",
    "        print('\\t Failed to open unzipped in {}'.format(path))\n",
    "        return\n",
    "    if channel not in contents:\n",
    "        print('\\t No such channel {}'.format(channel))\n",
    "        return\n",
    "    channel_contents = contents[channel]\n",
    "    found = {}\n",
    "    tz = pytz.timezone('America/Vancouver')\n",
    "    for date, datefile in channel_contents.items():\n",
    "        with open(datefile) as file:\n",
    "            data = json.load(file)\n",
    "            for entry in data:\n",
    "                if entry['type'] == 'message':\n",
    "                    matches = re.findall(regex, entry['text'])\n",
    "                    if matches:\n",
    "                        _time = entry['ts']\n",
    "                        ts = float(_time)\n",
    "                        dt = datetime.fromtimestamp(ts, tz)\n",
    "                        found[str(dt)] = entry['text']\n",
    "    return found"
   ]
  },
  {
   "cell_type": "markdown",
   "metadata": {},
   "source": [
    "### Example usage"
   ]
  },
  {
   "cell_type": "code",
   "execution_count": 66,
   "metadata": {},
   "outputs": [],
   "source": [
    "channelname = 'general'\n",
    "query='https://*'\n",
    "\n",
    "outputpath = '.'\n",
    "\n",
    "results = search_channel(channelname, query, path)\n",
    "\n",
    "with open(os.path.join(outputpath, 'results.txt'), 'w') as f:\n",
    "    f.write('Results for query\\n {}  in channel \\n{}\\n'.format(query, channelname))\n",
    "    for i,(k,v) in enumerate(results.items()):\n",
    "        f.write('{} th result\\n'.format(i))\n",
    "        f.write('Date \\t: {}\\n'.format(k))\n",
    "        f.write('\\n')\n",
    "        f.write('Message \\t: {}\\n'.format(v))\n",
    "        f.write('\\n')"
   ]
  },
  {
   "cell_type": "code",
   "execution_count": null,
   "metadata": {},
   "outputs": [],
   "source": []
  }
 ],
 "metadata": {
  "@webio": {
   "lastCommId": "b4f4944be23c4161892e888b51bf66a2",
   "lastKernelId": "b529ea93-89d5-4582-a239-f85ed0293473"
  },
  "kernelspec": {
   "display_name": "Python 3",
   "language": "python",
   "name": "python3"
  },
  "language_info": {
   "codemirror_mode": {
    "name": "ipython",
    "version": 3
   },
   "file_extension": ".py",
   "mimetype": "text/x-python",
   "name": "python",
   "nbconvert_exporter": "python",
   "pygments_lexer": "ipython3",
   "version": "3.6.6"
  }
 },
 "nbformat": 4,
 "nbformat_minor": 2
}
